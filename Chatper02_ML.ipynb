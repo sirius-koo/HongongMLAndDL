{
  "nbformat": 4,
  "nbformat_minor": 0,
  "metadata": {
    "colab": {
      "provenance": []
    },
    "kernelspec": {
      "name": "python3",
      "display_name": "Python 3"
    },
    "language_info": {
      "name": "python"
    },
    "accelerator": "TPU"
  },
  "cells": [
    {
      "cell_type": "markdown",
      "source": [
        "# **훈련 세트와 테스트 세트**  \n",
        "## 지도 학습과 비지도 학습"
      ],
      "metadata": {
        "id": "8__ekPuGf4RE"
      }
    },
    {
      "cell_type": "code",
      "execution_count": 1,
      "metadata": {
        "id": "NNlpJb2zfkhp"
      },
      "outputs": [],
      "source": [
        "# 도미와 빙어 데이터를 합쳐 하나의 데이터 구성, 테스트 세트로 사용\n",
        "fish_length = [25.4, 26.3, 26.5, 29.0, 29.0, 29.7, 29.7, 30.0, 30.0, 30.7, 31.0, 31.0,\n",
        "                31.5, 32.0, 32.0, 32.0, 33.0, 33.0, 33.5, 33.5, 34.0, 34.0, 34.5, 35.0,\n",
        "                35.0, 35.0, 35.0, 36.0, 36.0, 37.0, 38.5, 38.5, 39.5, 41.0, 41.0, 9.8,\n",
        "                10.5, 10.6, 11.0, 11.2, 11.3, 11.8, 11.8, 12.0, 12.2, 12.4, 13.0, 14.3, 15.0]\n",
        "fish_weight = [242.0, 290.0, 340.0, 363.0, 430.0, 450.0, 500.0, 390.0, 450.0, 500.0, 475.0, 500.0,\n",
        "                500.0, 340.0, 600.0, 600.0, 700.0, 700.0, 610.0, 650.0, 575.0, 685.0, 620.0, 680.0,\n",
        "                700.0, 725.0, 720.0, 714.0, 850.0, 1000.0, 920.0, 955.0, 925.0, 975.0, 950.0, 6.7,\n",
        "                7.5, 7.0, 9.7, 9.8, 8.7, 10.0, 9.9, 9.8, 12.2, 13.4, 12.2, 19.7, 19.9]\n",
        "\n",
        "# 위 데이터를 2차원 리스트로 구성\n",
        "fish_data = [[l, w] for l, w in zip(fish_length, fish_weight)]\n",
        "fish_target = [1] * 35 + [0] * 14"
      ]
    },
    {
      "cell_type": "code",
      "source": [
        "# 모델 객체 생성\n",
        "from sklearn.neighbors import KNeighborsClassifier\n",
        "kn = KNeighborsClassifier()"
      ],
      "metadata": {
        "id": "W7C5KVHvhMyI"
      },
      "execution_count": 2,
      "outputs": []
    },
    {
      "cell_type": "code",
      "source": [
        "train_input = fish_data[:35] # 훈련 세트로 입력값 중 0부터 34번째 인덱스까지 사용\n",
        "train_target = fish_target[:35] # 훈련 세트로 타깃값 중 0부터 34번째 인덱스까지 사용\n",
        "test_input = fish_data[35:] # 테스트 세트로 입력값 중 35번째부터 마지막 인덱스까지 사용\n",
        "test_target = fish_target[35:] # 테스트 세트로 타깃값 중 35번째부터 마지막 인덱스까지 사용\n",
        "\n",
        "kn.fit(train_input, train_target) # 모델 훈련\n",
        "kn.score(test_input, test_target) # 모델 평가"
      ],
      "metadata": {
        "colab": {
          "base_uri": "https://localhost:8080/"
        },
        "id": "0Lh-R-oMhoy0",
        "outputId": "3e426094-880b-47ae-9d0c-e2ff3d26ba2d"
      },
      "execution_count": 3,
      "outputs": [
        {
          "output_type": "execute_result",
          "data": {
            "text/plain": [
              "0.0"
            ]
          },
          "metadata": {},
          "execution_count": 3
        }
      ]
    },
    {
      "cell_type": "markdown",
      "source": [
        "위 코드에서 모델의 정확도가 0.0이 되는 이유 : **샘플링 편향**  \n",
        "마지막 14개를 테스트 세트로 하면 훈련 세트에는 빙어 데이터가 없다.  \n",
        "빙어 없이 모델을 훈련하면 빙어를 올바르게 분류할 수 없다."
      ],
      "metadata": {
        "id": "7fl6AvUBi5Vr"
      }
    },
    {
      "cell_type": "code",
      "source": [
        "import numpy as np\n",
        "\n",
        "input_arr = np.array(fish_data)\n",
        "target_arr = np.array(fish_target)\n",
        "print(input_arr)\n",
        "print(input_arr.shape) # (샘플 수, 특성 수)"
      ],
      "metadata": {
        "colab": {
          "base_uri": "https://localhost:8080/"
        },
        "id": "vLqzITHEjIWI",
        "outputId": "7597979e-b004-4c67-c53b-d51c831fe965"
      },
      "execution_count": 4,
      "outputs": [
        {
          "output_type": "stream",
          "name": "stdout",
          "text": [
            "[[  25.4  242. ]\n",
            " [  26.3  290. ]\n",
            " [  26.5  340. ]\n",
            " [  29.   363. ]\n",
            " [  29.   430. ]\n",
            " [  29.7  450. ]\n",
            " [  29.7  500. ]\n",
            " [  30.   390. ]\n",
            " [  30.   450. ]\n",
            " [  30.7  500. ]\n",
            " [  31.   475. ]\n",
            " [  31.   500. ]\n",
            " [  31.5  500. ]\n",
            " [  32.   340. ]\n",
            " [  32.   600. ]\n",
            " [  32.   600. ]\n",
            " [  33.   700. ]\n",
            " [  33.   700. ]\n",
            " [  33.5  610. ]\n",
            " [  33.5  650. ]\n",
            " [  34.   575. ]\n",
            " [  34.   685. ]\n",
            " [  34.5  620. ]\n",
            " [  35.   680. ]\n",
            " [  35.   700. ]\n",
            " [  35.   725. ]\n",
            " [  35.   720. ]\n",
            " [  36.   714. ]\n",
            " [  36.   850. ]\n",
            " [  37.  1000. ]\n",
            " [  38.5  920. ]\n",
            " [  38.5  955. ]\n",
            " [  39.5  925. ]\n",
            " [  41.   975. ]\n",
            " [  41.   950. ]\n",
            " [   9.8    6.7]\n",
            " [  10.5    7.5]\n",
            " [  10.6    7. ]\n",
            " [  11.     9.7]\n",
            " [  11.2    9.8]\n",
            " [  11.3    8.7]\n",
            " [  11.8   10. ]\n",
            " [  11.8    9.9]\n",
            " [  12.     9.8]\n",
            " [  12.2   12.2]\n",
            " [  12.4   13.4]\n",
            " [  13.    12.2]\n",
            " [  14.3   19.7]\n",
            " [  15.    19.9]]\n",
            "(49, 2)\n"
          ]
        }
      ]
    },
    {
      "cell_type": "markdown",
      "source": [
        "데이터 섞는 방법\n",
        "1. arange() 함수를 사용해 0~48까지 1씩 증가하는 인덱스 생성\n",
        "2. 생성한 인덱스를 랜덤하게 섞기\n",
        "3. shuffle() 함수 이용해 배열 무작위로 섞기  \n",
        "  \n",
        "넘파이에서 무작위 결과를 만드는 함수들은 실행할 때마다 다른 결과를 만들기 때문에 일정한 결과를 위해서 초기에 랜덤 시드를 지정."
      ],
      "metadata": {
        "id": "Z8sVliGYk0yJ"
      }
    },
    {
      "cell_type": "code",
      "source": [
        "np.random.seed(42)\n",
        "index = np.arange(49)\n",
        "np.random.shuffle(index)\n",
        "print(index)\n",
        "print(input_arr[[1, 3]]) # 배열 인덱싱\n"
      ],
      "metadata": {
        "colab": {
          "base_uri": "https://localhost:8080/"
        },
        "id": "3TV0OjmIkLgx",
        "outputId": "808ee9c5-4280-45bc-9c77-f6ef8576e9ac"
      },
      "execution_count": 5,
      "outputs": [
        {
          "output_type": "stream",
          "name": "stdout",
          "text": [
            "[13 45 47 44 17 27 26 25 31 19 12  4 34  8  3  6 40 41 46 15  9 16 24 33\n",
            " 30  0 43 32  5 29 11 36  1 21  2 37 35 23 39 10 22 18 48 20  7 42 14 28\n",
            " 38]\n",
            "[[ 26.3 290. ]\n",
            " [ 29.  363. ]]\n"
          ]
        }
      ]
    },
    {
      "cell_type": "code",
      "source": [
        "# index 배열의 처음 35개를 input_arr, target_arr에 전달해 랜덤한 35개의 샘플을 훈련 세트로 생성\n",
        "train_input = input_arr[index[:35]]\n",
        "train_target = target_arr[index[:35]]\n",
        "print(input_arr[13], train_input[0])"
      ],
      "metadata": {
        "colab": {
          "base_uri": "https://localhost:8080/"
        },
        "id": "wlgayA3MfF_P",
        "outputId": "b84e8e83-66eb-49d5-ae74-da55f99ff962"
      },
      "execution_count": 6,
      "outputs": [
        {
          "output_type": "stream",
          "name": "stdout",
          "text": [
            "[ 32. 340.] [ 32. 340.]\n"
          ]
        }
      ]
    },
    {
      "cell_type": "code",
      "source": [
        "# 나머지 14개로 테스트 세트 생성\n",
        "test_input = input_arr[index[35:]]\n",
        "test_target = target_arr[index[35:]]"
      ],
      "metadata": {
        "id": "nTWG8ctsfyRI"
      },
      "execution_count": 7,
      "outputs": []
    },
    {
      "cell_type": "code",
      "source": [
        "# 두 데이터의 산점도 그래프\n",
        "import matplotlib.pyplot as plt\n",
        "\n",
        "plt.scatter(train_input[:, 0], train_input[:, 1], label='trainning set')\n",
        "plt.scatter(test_input[:, 0], test_input[:, 1], label='test set')\n",
        "plt.xlabel('length')\n",
        "plt.ylabel('weight')\n",
        "plt.legend()\n",
        "plt.show()"
      ],
      "metadata": {
        "colab": {
          "base_uri": "https://localhost:8080/",
          "height": 449
        },
        "id": "DjRna0KWgtbr",
        "outputId": "0094aabc-6e91-4fab-bc57-ab1c2cec3ae7"
      },
      "execution_count": 8,
      "outputs": [
        {
          "output_type": "display_data",
          "data": {
            "text/plain": [
              "<Figure size 640x480 with 1 Axes>"
            ],
            "image/png": "[encoded data removed]"
          },
          "metadata": {}
        }
      ]
    },
    {
      "cell_type": "markdown",
      "source": [
        "## 두 번째 머신러닝 프로그램\n",
        "fit() 메소드를 실행할 때마다 KNeighborsClassfier 클래스의 객체는 이전에 학습한 모든 것을 잃는다.  \n",
        "모델을 그대로 두고 싶다면 KNeighborsClassfier 클래스 객체를 새로 생성해야 한다.  \n",
        "이 코드에서는 그대로 사용한다."
      ],
      "metadata": {
        "id": "3u4_X4T-jItp"
      }
    },
    {
      "cell_type": "code",
      "source": [
        "kn.fit(train_input, train_target) # 모델 훈련\n",
        "kn.score(test_input, test_target) # 모델 테스트"
      ],
      "metadata": {
        "colab": {
          "base_uri": "https://localhost:8080/"
        },
        "id": "Iek_r6v_i2fJ",
        "outputId": "6593c373-0801-4e4f-abb8-d8ce4502e9af"
      },
      "execution_count": 11,
      "outputs": [
        {
          "output_type": "execute_result",
          "data": {
            "text/plain": [
              "1.0"
            ]
          },
          "metadata": {},
          "execution_count": 11
        }
      ]
    },
    {
      "cell_type": "code",
      "source": [
        "kn.predict(test_input) # 훈련된 모델로 예측"
      ],
      "metadata": {
        "colab": {
          "base_uri": "https://localhost:8080/"
        },
        "id": "PEjbRQdOjwME",
        "outputId": "bec70795-04da-47c8-ec29-c71beb597b16"
      },
      "execution_count": 12,
      "outputs": [
        {
          "output_type": "execute_result",
          "data": {
            "text/plain": [
              "array([0, 0, 1, 0, 1, 1, 1, 0, 1, 1, 0, 1, 1, 0])"
            ]
          },
          "metadata": {},
          "execution_count": 12
        }
      ]
    },
    {
      "cell_type": "code",
      "source": [
        "test_target # 예측한 결과와 동일함"
      ],
      "metadata": {
        "colab": {
          "base_uri": "https://localhost:8080/"
        },
        "id": "UevvhPN4j1C7",
        "outputId": "0c7a8569-4b78-4fd1-8c46-fe2150f8f4ea"
      },
      "execution_count": 13,
      "outputs": [
        {
          "output_type": "execute_result",
          "data": {
            "text/plain": [
              "array([0, 0, 1, 0, 1, 1, 1, 0, 1, 1, 0, 1, 1, 0])"
            ]
          },
          "metadata": {},
          "execution_count": 13
        }
      ]
    }
  ]
}