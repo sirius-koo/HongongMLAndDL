{
  "nbformat": 4,
  "nbformat_minor": 0,
  "metadata": {
    "colab": {
      "provenance": []
    },
    "kernelspec": {
      "name": "python3",
      "display_name": "Python 3"
    },
    "language_info": {
      "name": "python"
    },
    "accelerator": "TPU"
  },
  "cells": [
    {
      "cell_type": "markdown",
      "source": [
        "# **Numpy**  \n",
        "- 파이썬에서 선형대수 기반의 프로그램을 쉽게 만들 수 있도록 지원하는 패키지이다.  \n",
        "- 많은 머신러닝 알고리즘이 넘파이 기반으로 작성되어 있고, 데이터 입출력도 넘파이 배열 타입을 사용하기 때문에 중요한 패키지이다."
      ],
      "metadata": {
        "id": "wSjdaw3rnHV1"
      }
    },
    {
      "cell_type": "markdown",
      "source": [
        "## 개요"
      ],
      "metadata": {
        "id": "s3zxz7gKp-ix"
      }
    },
    {
      "cell_type": "code",
      "execution_count": 2,
      "metadata": {
        "id": "GZNmk8n5m2-e"
      },
      "outputs": [],
      "source": [
        "import numpy as np"
      ]
    },
    {
      "cell_type": "markdown",
      "source": [
        "array() 함수  \n",
        "- 파이썬의 리스트와 같은 다양한 인자를 입력 받아 ndarray로 변환하는 기능을 수행한다.  \n",
        "- 생성된 ndarray 배열의 shape 변수는 ndarray의 행과 열의 수를 튜플 형태로 가지고 있고, 이를 통해 ndarray 배열의 차원을 알 수 있다."
      ],
      "metadata": {
        "id": "1eYRoRqBoPoz"
      }
    },
    {
      "cell_type": "code",
      "source": [
        "array1 = np.array([1, 2, 3])\n",
        "print('array1 type:', type(array1))\n",
        "print('array1 array 형태:', array1.shape)\n",
        "print()\n",
        "\n",
        "array2 = np.array([[1, 2, 3], [4, 5, 6], [7, 8, 9]])\n",
        "print('array2 type:', type(array2))\n",
        "print('array2 array 형태:', array2.shape)\n",
        "print()\n",
        "\n",
        "array3 = np.array([[1, 2, 3]])\n",
        "print('array3 type:', type(array3))\n",
        "print('array3 array 형태:', array3.shape)\n",
        "print()\n",
        "\n",
        "array4 = np.array([[1, 2, 3], [4, 5, 6], [7, 8, 9]])\n",
        "print('array4 type:', type(array4))\n",
        "print('array4 array 형태:', array4.shape)"
      ],
      "metadata": {
        "colab": {
          "base_uri": "https://localhost:8080/"
        },
        "id": "2mbEcLTNoHFv",
        "outputId": "8f30c0f7-a51f-40b3-80b3-c11db32ab8e7"
      },
      "execution_count": 11,
      "outputs": [
        {
          "output_type": "stream",
          "name": "stdout",
          "text": [
            "array1 type: <class 'numpy.ndarray'>\n",
            "array1 array 형태: (3,)\n",
            "\n",
            "array2 type: <class 'numpy.ndarray'>\n",
            "array2 array 형태: (3, 3)\n",
            "\n",
            "array3 type: <class 'numpy.ndarray'>\n",
            "array3 array 형태: (1, 3)\n",
            "\n",
            "array4 type: <class 'numpy.ndarray'>\n",
            "array4 array 형태: (3, 3)\n"
          ]
        }
      ]
    },
    {
      "cell_type": "markdown",
      "source": [
        "알고리즘 데이터 입출력, 변환시 명확히 1차원 또는 다차원 데이터를 요구하는 경우가 빈번하기 때문에 이 차이를 인지하는 것이 매우 중요하다."
      ],
      "metadata": {
        "id": "rg1eGYNPpWNS"
      }
    },
    {
      "cell_type": "code",
      "source": [
        "print(f'array1: {array1.ndim}차원, array2: {array2.ndim}차원, array3: {array3.ndim}차원')"
      ],
      "metadata": {
        "colab": {
          "base_uri": "https://localhost:8080/"
        },
        "id": "uH6tcV7ipRIL",
        "outputId": "e125ca6a-f160-4072-b935-e1620c8ad871"
      },
      "execution_count": 14,
      "outputs": [
        {
          "output_type": "stream",
          "name": "stdout",
          "text": [
            "array1: 1차원, array2: 2차원, array3: 2차원\n"
          ]
        }
      ]
    },
    {
      "cell_type": "markdown",
      "source": [
        "## ndarray의 데이터 타입\n",
        "- ndarray 내의 데이터 값은 숫자, 문자열, 불리언 값 모두 가능하다.\n",
        "- 하나의 array 내의 데이터 타입은 같은 타입만 가능하다. 숫자형인 int와 float형도 함께 있을 수 없다."
      ],
      "metadata": {
        "id": "r_roko9BpzpP"
      }
    },
    {
      "cell_type": "code",
      "source": [
        "list1 = [1, 2, 3]\n",
        "print(type(list1))\n",
        "array1 = np.array(list1)\n",
        "print(type(array1))\n",
        "print(array1, array1.dtype)"
      ],
      "metadata": {
        "colab": {
          "base_uri": "https://localhost:8080/"
        },
        "id": "NePv1HGdpzPk",
        "outputId": "957845dd-c35e-4284-f929-0bb9192406c5"
      },
      "execution_count": 16,
      "outputs": [
        {
          "output_type": "stream",
          "name": "stdout",
          "text": [
            "<class 'list'>\n",
            "<class 'numpy.ndarray'>\n",
            "[1 2 3] int64\n"
          ]
        }
      ]
    },
    {
      "cell_type": "markdown",
      "source": [
        "서로 다른 데이터 유형이 섞여있는 리스트를 ndarray로 변경하려고 하면 **데이터 크기가 더 큰 타입**으로 형 변환을 일괄 적용한다.  \n",
        "\n",
        "str > float > int"
      ],
      "metadata": {
        "id": "_aiIWr4nqkx4"
      }
    },
    {
      "cell_type": "code",
      "source": [
        "list2 = [1, 2, 'test'] # int형과 str형이 섞여있는 리스트\n",
        "array2 = np.array(list2)\n",
        "print(array2, array2.dtype) # 유니코드 문자열값으로 데이터 변환\n",
        "list3 = [1, 2, 3.0]\n",
        "array3 = np.array(list3)\n",
        "print(array3, array3.dtype) # float형으로 데이터 변환"
      ],
      "metadata": {
        "colab": {
          "base_uri": "https://localhost:8080/"
        },
        "id": "mZY1CXUhqjFI",
        "outputId": "f5b9c0ce-4bb5-4819-b294-4bafbe29aaf8"
      },
      "execution_count": 18,
      "outputs": [
        {
          "output_type": "stream",
          "name": "stdout",
          "text": [
            "['1' '2' 'test'] <U21\n",
            "[1. 2. 3.] float64\n"
          ]
        }
      ]
    },
    {
      "cell_type": "markdown",
      "source": [
        "ndarray 내의 데이터 타입 변경도 astype()를 이용하면 가능하다.(메모리 절약)  \n",
        "가령, int형만으로도 충분한 float 타입의 데이터라면 int형으로 바꿔서 메모리를 절약할 수 있다."
      ],
      "metadata": {
        "id": "wz0fRw-sswxK"
      }
    },
    {
      "cell_type": "code",
      "source": [
        "array_int = np.array([1, 2, 3])\n",
        "array_float = array_int.astype('float64')\n",
        "print(array_float, array_float.dtype)\n",
        "\n",
        "array_int1 = array_float.astype('int32')\n",
        "print(array_int1, array_int1.dtype)\n",
        "\n",
        "array_float1 = np.array([1.1, 2.1, 3.1])\n",
        "print('array_float1:', array_float1)\n",
        "array_int2 = array_float.astype('int32')\n",
        "print('array_int2:', array_int2, array_int2.dtype) # int형으로 변환되면서 소수점이 사라짐"
      ],
      "metadata": {
        "colab": {
          "base_uri": "https://localhost:8080/"
        },
        "id": "YVgN3q4urK8r",
        "outputId": "a1b3ba3f-a5b8-491e-e574-3b554037aa16"
      },
      "execution_count": 27,
      "outputs": [
        {
          "output_type": "stream",
          "name": "stdout",
          "text": [
            "[1. 2. 3.] float64\n",
            "[1 2 3] int32\n",
            "array_float1: [1.1 2.1 3.1]\n",
            "array_int2: [1 2 3] int32\n"
          ]
        }
      ]
    },
    {
      "cell_type": "markdown",
      "source": [
        "## ndarray 편리하게 생성하기\n",
        "특정 크기, 차원을 가진 ndarray를 연속값이나 0, 1로 초기화해 쉽게 생성해야할 경우, 또는 테스트용 데이터를 만들거나 대규모 데이터를 일괄적으로 초기화할 때 arange(), zeros(), ones() 함수를 사용한다."
      ],
      "metadata": {
        "id": "ehK4EK-Jt9Q6"
      }
    },
    {
      "cell_type": "code",
      "source": [
        "# arange() : 파이썬의 range와 비슷하게 0부터 '인자값-1'의 값을 순차적으로 ndarray의 값으로 변환\n",
        "sequence_array = np.arange(10)\n",
        "print(sequence_array)\n",
        "print(type(sequence_array))\n",
        "print(sequence_array.dtype, sequence_array.shape)"
      ],
      "metadata": {
        "colab": {
          "base_uri": "https://localhost:8080/"
        },
        "id": "LMNo9ReStrru",
        "outputId": "bf34dfa6-e1d7-48cc-e0f2-2c24884c6c08"
      },
      "execution_count": 30,
      "outputs": [
        {
          "output_type": "stream",
          "name": "stdout",
          "text": [
            "[0 1 2 3 4 5 6 7 8 9]\n",
            "<class 'numpy.ndarray'>\n",
            "int64 (10,)\n"
          ]
        }
      ]
    },
    {
      "cell_type": "code",
      "source": [
        "sequence_array2 = np.arange(3, 10) # 시작값 설정 가능\n",
        "print(sequence_array2)\n",
        "print(type(sequence_array2))"
      ],
      "metadata": {
        "colab": {
          "base_uri": "https://localhost:8080/"
        },
        "id": "5b6Dp_Zou3u5",
        "outputId": "c71d57d2-0b8a-4a2d-f6c2-a1571d918a2e"
      },
      "execution_count": 32,
      "outputs": [
        {
          "output_type": "stream",
          "name": "stdout",
          "text": [
            "[3 4 5 6 7 8 9]\n",
            "<class 'numpy.ndarray'>\n"
          ]
        }
      ]
    },
    {
      "cell_type": "code",
      "source": [
        "# dtype default - float64\n",
        "\n",
        "# zeros() : 튜플형태의 shape 값을 입력하면, 모든 값을 0으로 채운 ndarray 반환\n",
        "zero_array = np.zeros((3, 2), dtype='int32')\n",
        "print(zero_array)\n",
        "print(zero_array.dtype, zero_array.shape)\n",
        "print()\n",
        "\n",
        "# ones() : 튜플형태의 shape 값을 입력하면, 모든 값을 1으로 채운 ndarray 반환\n",
        "one_array = np.ones((3, 2))\n",
        "print(one_array)\n",
        "print(one_array.dtype, one_array.shape)"
      ],
      "metadata": {
        "colab": {
          "base_uri": "https://localhost:8080/"
        },
        "id": "jNLIFLaQtIZX",
        "outputId": "c468380e-6f21-4956-8313-089a658e1aff"
      },
      "execution_count": 36,
      "outputs": [
        {
          "output_type": "stream",
          "name": "stdout",
          "text": [
            "[[0 0]\n",
            " [0 0]\n",
            " [0 0]]\n",
            "int32 (3, 2)\n",
            "\n",
            "[[1. 1.]\n",
            " [1. 1.]\n",
            " [1. 1.]]\n",
            "float64 (3, 2)\n"
          ]
        }
      ]
    },
    {
      "cell_type": "code",
      "source": [
        "# reshape() : ndarray의 차원과 크기 변경\n",
        "array1 = np.arange(10)\n",
        "print('array1:\\n', array1)\n",
        "print()\n",
        "\n",
        "array2 = array1.reshape(2, 5)\n",
        "print('array2:\\n', array2)\n",
        "print()\n",
        "\n",
        "array3 = array1.reshape(5, 2)\n",
        "print('array3:\\n', array3)"
      ],
      "metadata": {
        "colab": {
          "base_uri": "https://localhost:8080/"
        },
        "id": "4W0oRF262b85",
        "outputId": "f5145902-5500-4f74-98b5-d91c7b172003"
      },
      "execution_count": 37,
      "outputs": [
        {
          "output_type": "stream",
          "name": "stdout",
          "text": [
            "array1:\n",
            " [0 1 2 3 4 5 6 7 8 9]\n",
            "\n",
            "array2:\n",
            " [[0 1 2 3 4]\n",
            " [5 6 7 8 9]]\n",
            "\n",
            "array3:\n",
            " [[0 1]\n",
            " [2 3]\n",
            " [4 5]\n",
            " [6 7]\n",
            " [8 9]]\n"
          ]
        }
      ]
    },
    {
      "cell_type": "code",
      "source": [
        "# reshape()는 지정된 사이즈로 변경 불가능할 때 오류 발생\n",
        "array1.reshape(4, 3)"
      ],
      "metadata": {
        "colab": {
          "base_uri": "https://localhost:8080/",
          "height": 206
        },
        "id": "70Y9Wxb23DoQ",
        "outputId": "ce231689-917a-4002-b3bf-2dcd5f81a251"
      },
      "execution_count": 38,
      "outputs": [
        {
          "output_type": "error",
          "ename": "ValueError",
          "evalue": "ignored",
          "traceback": [
            "\u001b[0;31m---------------------------------------------------------------------------\u001b[0m",
            "\u001b[0;31mValueError\u001b[0m                                Traceback (most recent call last)",
            "\u001b[0;32m<ipython-input-38-9f98e61e8ba0>\u001b[0m in \u001b[0;36m<cell line: 2>\u001b[0;34m()\u001b[0m\n\u001b[1;32m      1\u001b[0m \u001b[0;31m# reshape()는 지정된 사이즈로 변경 불가능할 때 오류 발생\u001b[0m\u001b[0;34m\u001b[0m\u001b[0;34m\u001b[0m\u001b[0m\n\u001b[0;32m----> 2\u001b[0;31m \u001b[0marray1\u001b[0m\u001b[0;34m.\u001b[0m\u001b[0mreshape\u001b[0m\u001b[0;34m(\u001b[0m\u001b[0;36m4\u001b[0m\u001b[0;34m,\u001b[0m \u001b[0;36m3\u001b[0m\u001b[0;34m)\u001b[0m\u001b[0;34m\u001b[0m\u001b[0;34m\u001b[0m\u001b[0m\n\u001b[0m",
            "\u001b[0;31mValueError\u001b[0m: cannot reshape array of size 10 into shape (4,3)"
          ]
        }
      ]
    },
    {
      "cell_type": "code",
      "source": [
        "# reshape()의 인자를 -1로 적용하면, ndarray와 호환되는 새로운 ndarray로 변환\n",
        "# 차원 상관없이 사이즈에 맞게 적용된다!!\n",
        "array1 = np.arange(10)\n",
        "print(array1)\n",
        "\n",
        "array2 = array1.reshape(-1, 5)\n",
        "print('array2 shape:', array2.shape)\n",
        "\n",
        "array3 = array1.reshape(10, -1) # array3 = array1.reshape(10, 1)\n",
        "print('array3 shape:', array3.shape)"
      ],
      "metadata": {
        "colab": {
          "base_uri": "https://localhost:8080/"
        },
        "id": "9DREFAxA3OEF",
        "outputId": "8736c2db-0a43-4093-8e15-9af434104ee0"
      },
      "execution_count": 45,
      "outputs": [
        {
          "output_type": "stream",
          "name": "stdout",
          "text": [
            "[0 1 2 3 4 5 6 7 8 9]\n",
            "array2 shape: (2, 5)\n",
            "array3 shape: (10, 1)\n"
          ]
        }
      ]
    },
    {
      "cell_type": "code",
      "source": [
        "# reshape(-1, 1) : 원본 ndarray가 어떤 형태라도 2차원이고\n",
        "# 여러 개의 row, 1개의 col을 가진 ndarray로 변환된다.\n",
        "array1 = np.arange(8)\n",
        "array3d = array1.reshape((2, 2, 2))\n",
        "print('array3d:\\n', array3d.tolist())\n",
        "\n",
        "# 3차원 ndarray를 2차원 ndarray로 변환\n",
        "array5 = array3d.reshape(-1, 1)\n",
        "print('array5:\\n', array5.tolist())\n",
        "print('array5 shape:', array5.shape)"
      ],
      "metadata": {
        "colab": {
          "base_uri": "https://localhost:8080/"
        },
        "id": "Yt1UmzPr3ztY",
        "outputId": "6afb3215-562f-497a-d555-9841d25446e7"
      },
      "execution_count": 50,
      "outputs": [
        {
          "output_type": "stream",
          "name": "stdout",
          "text": [
            "array3d:\n",
            " [[[0, 1], [2, 3]], [[4, 5], [6, 7]]]\n",
            "array5:\n",
            " [[0], [1], [2], [3], [4], [5], [6], [7]]\n",
            "array5 shape: (8, 1)\n"
          ]
        }
      ]
    },
    {
      "cell_type": "markdown",
      "source": [
        "## 넘파이의 ndarray의 데이터셋 선택하기 - 인덱싱(indexing)"
      ],
      "metadata": {
        "id": "YI_kBB7xNdVE"
      }
    },
    {
      "cell_type": "markdown",
      "source": [
        "### 1. 특정 데이터만 추출"
      ],
      "metadata": {
        "id": "W3qW_STpO7CX"
      }
    },
    {
      "cell_type": "code",
      "source": [
        "# ndarray 객체에 해당하는 위치의 인덱스 값을 [] 안에 입력\n",
        "array1 = np.arange(start=1, stop=10)\n",
        "print('array1:', array1)\n",
        "value = array1[2]\n",
        "print('value:', value)\n",
        "print(type(value))"
      ],
      "metadata": {
        "colab": {
          "base_uri": "https://localhost:8080/"
        },
        "id": "CnkhhZtMNQy1",
        "outputId": "2eaf7392-2166-4894-fcc4-7c3a615662e5"
      },
      "execution_count": 53,
      "outputs": [
        {
          "output_type": "stream",
          "name": "stdout",
          "text": [
            "array1: [1 2 3 4 5 6 7 8 9]\n",
            "value: 3\n",
            "<class 'numpy.int64'>\n"
          ]
        }
      ]
    },
    {
      "cell_type": "code",
      "source": [
        "print('맨 뒤의 값:', array1[-1], ', 맨 뒤에서 두 번째 값:', array1[-2])"
      ],
      "metadata": {
        "colab": {
          "base_uri": "https://localhost:8080/"
        },
        "id": "N83fPnbYOM0l",
        "outputId": "20c26c78-b1a5-48a0-db76-754e949706e8"
      },
      "execution_count": 55,
      "outputs": [
        {
          "output_type": "stream",
          "name": "stdout",
          "text": [
            "맨 뒤의 값: 9 , 맨 뒤에서 두 번째 값: 8\n"
          ]
        }
      ]
    },
    {
      "cell_type": "code",
      "source": [
        "# 단일 인덱스를 이용해 ndarray 내의 데이터 값 수정 가능\n",
        "array1[0] = 9\n",
        "array1[8] = 0\n",
        "print('array1:', array1)"
      ],
      "metadata": {
        "colab": {
          "base_uri": "https://localhost:8080/"
        },
        "id": "Ske3Pdl9O19h",
        "outputId": "db81e0c9-3750-45fa-df86-272cba5e7b1a"
      },
      "execution_count": 56,
      "outputs": [
        {
          "output_type": "stream",
          "name": "stdout",
          "text": [
            "array1: [9 2 3 4 5 6 7 8 0]\n"
          ]
        }
      ]
    },
    {
      "cell_type": "code",
      "source": [
        "# 2차원 ndarray의 경우 (row, col) 위치로 row와 col의 위치 인덱스를 통해 접근\n",
        "array1d = np.arange(start=1, stop=10)\n",
        "array2d = array1d.reshape(3, 3)\n",
        "print(array2d, '\\n')\n",
        "\n",
        "print(f'(row=0, col=0) index 가리키는 값: {array2d[0, 0]}')\n",
        "print(f'(row=0, col=1) index 가리키는 값: {array2d[0, 1]}')\n",
        "print(f'(row=1, col=0) index 가리키는 값: {array2d[1, 0]}')\n",
        "print(f'(row=2, col=2) index 가리키는 값: {array2d[2, 2]}')"
      ],
      "metadata": {
        "colab": {
          "base_uri": "https://localhost:8080/"
        },
        "id": "2R2nPQT6PF-L",
        "outputId": "d1412040-88c7-4a40-c277-cb82cf7a038f"
      },
      "execution_count": 63,
      "outputs": [
        {
          "output_type": "stream",
          "name": "stdout",
          "text": [
            "[[1 2 3]\n",
            " [4 5 6]\n",
            " [7 8 9]] \n",
            "\n",
            "(row=0, col=0) index 가리키는 값: 1\n",
            "(row=0, col=1) index 가리키는 값: 2\n",
            "(row=1, col=0) index 가리키는 값: 4\n",
            "(row=2, col=2) index 가리키는 값: 9\n"
          ]
        }
      ]
    },
    {
      "cell_type": "markdown",
      "source": [
        "### 2. 슬라이싱  \n",
        "- ' : ' 기호를 이용\n",
        "- ' : ' 기호 앞에 시작 인덱스를 생략하면 자동으로 맨 처음 인덱스로 간주\n",
        "- ' : ' 기호 뒤에 종료 인덱스를 생략하면 자동으로 맨 마지막 인덱스로 간주\n",
        "- ' : ' 기호 앞 뒤에 시작/종료 인덱스를 생략하면 자동으로 맨 처음/맨 마지막 인덱스로 간주(전체 선택)"
      ],
      "metadata": {
        "id": "xzEbTNPpP6m4"
      }
    },
    {
      "cell_type": "code",
      "source": [
        "array1 = np.arange(start=1, stop=10)\n",
        "print('array1:', array1)\n",
        "\n",
        "array3 = array1[0:3]\n",
        "print('array3:', array3)\n",
        "print(type(array3))"
      ],
      "metadata": {
        "colab": {
          "base_uri": "https://localhost:8080/"
        },
        "id": "wktimkVUPawY",
        "outputId": "91eceb9a-1e25-4e6c-b6f0-5e01c321d8bc"
      },
      "execution_count": 65,
      "outputs": [
        {
          "output_type": "stream",
          "name": "stdout",
          "text": [
            "array1: [1 2 3 4 5 6 7 8 9]\n",
            "array3: [1 2 3]\n",
            "<class 'numpy.ndarray'>\n"
          ]
        }
      ]
    },
    {
      "cell_type": "code",
      "source": [
        "array1 = np.arange(start=1, stop=10)\n",
        "print('array1:', array1)\n",
        "\n",
        "array4 = array1[:3]\n",
        "print('array4:', array4)\n",
        "\n",
        "array5 = array1[3:]\n",
        "print('array5:', array5)\n",
        "\n",
        "array6 = array1[:]\n",
        "print('array6:', array6)"
      ],
      "metadata": {
        "colab": {
          "base_uri": "https://localhost:8080/"
        },
        "id": "jfCnRPodQu5c",
        "outputId": "c4ffb598-25a5-4c6e-99b6-a20ea1edd949"
      },
      "execution_count": 66,
      "outputs": [
        {
          "output_type": "stream",
          "name": "stdout",
          "text": [
            "array1: [1 2 3 4 5 6 7 8 9]\n",
            "array4: [1 2 3]\n",
            "array5: [4 5 6 7 8 9]\n",
            "array6: [1 2 3 4 5 6 7 8 9]\n"
          ]
        }
      ]
    },
    {
      "cell_type": "code",
      "source": [
        "# [row 수, col 수]로 생각하면 쉽다!\n",
        "array1d = np.arange(start=1, stop=10)\n",
        "array2d = array1d.reshape(3, 3) # 2차원 ndarray에서 슬라이싱으로 데이터 접근\n",
        "print('array2d:\\n', array2d)\n",
        "\n",
        "print('array2d[0:2, 0:2]\\n', array2d[0:2, 0:2])\n",
        "print('array2d[1:3, 0:3]\\n', array2d[1:3, 0:3])\n",
        "print('array2d[1:3, :]\\n', array2d[1:3, :])\n",
        "print('array2d[:, :]\\n', array2d[:, :])\n",
        "print('array2d[:2, 1:]\\n', array2d[:2, 1:])\n",
        "print('array2d[:2, 0]\\n', array2d[:2, 0])\n",
        "\n",
        "# [?, 0] 0으로 인덱싱하면 1차원으로 변환?\n",
        "print(array2d[:, 0], array2d[:, 0].shape)\n",
        "print(array2d[0, :2], array2d[0, :].shape)"
      ],
      "metadata": {
        "colab": {
          "base_uri": "https://localhost:8080/"
        },
        "id": "_rmmy4InRRJB",
        "outputId": "bb0072c8-68d0-47b2-d4be-f3220c224eb0"
      },
      "execution_count": 76,
      "outputs": [
        {
          "output_type": "stream",
          "name": "stdout",
          "text": [
            "array2d:\n",
            " [[1 2 3]\n",
            " [4 5 6]\n",
            " [7 8 9]]\n",
            "array2d[0:2, 0:2]\n",
            " [[1 2]\n",
            " [4 5]]\n",
            "array2d[1:3, 0:3]\n",
            " [[4 5 6]\n",
            " [7 8 9]]\n",
            "array2d[1:3, :]\n",
            " [[4 5 6]\n",
            " [7 8 9]]\n",
            "array2d[:, :]\n",
            " [[1 2 3]\n",
            " [4 5 6]\n",
            " [7 8 9]]\n",
            "array2d[:2, 1:]\n",
            " [[2 3]\n",
            " [5 6]]\n",
            "array2d[:2, 0]\n",
            " [1 4]\n",
            "[1 4 7] (3,)\n",
            "[1 2] (3,)\n"
          ]
        }
      ]
    },
    {
      "cell_type": "code",
      "source": [
        "# 2차원 ndarray에서 뒤에 오는 인덱스를 없애면 1차원 인덱스를 반환\n",
        "print(array2d[0])\n",
        "print(array2d[1])\n",
        "print('array2d[0] shape:', array2d[0].shape, ', array2d[1] shape:', array2d[1].shape)"
      ],
      "metadata": {
        "colab": {
          "base_uri": "https://localhost:8080/"
        },
        "id": "Bqk61jJdSLAl",
        "outputId": "97e4971e-7e9c-4813-ef42-721cbd5378b6"
      },
      "execution_count": 78,
      "outputs": [
        {
          "output_type": "stream",
          "name": "stdout",
          "text": [
            "[1 2 3]\n",
            "[4 5 6]\n",
            "array2d[0] shape: (3,) , array2d[1] shape: (3,)\n"
          ]
        }
      ]
    },
    {
      "cell_type": "markdown",
      "source": [
        "### 팬시 인덱싱\n",
        "- 리스트나 ndarray로 인덱스 집합을 지정하면 해당 위치의 인덱스에 해당하는 ndarray를 반환하는 인덱싱 방식"
      ],
      "metadata": {
        "id": "R4z4y4hGUUcE"
      }
    },
    {
      "cell_type": "code",
      "source": [
        "array1d = np.arange(start=1, stop=10)\n",
        "array2d = array1d.reshape(3, 3)\n",
        "print('array2d:\\n', array2d)\n",
        "\n",
        "array3 = array2d[[0, 1], 2]\n",
        "print('array2d[[0, 1], 2] =>', array3.tolist())\n",
        "print()\n",
        "\n",
        "array4 = array2d[[0, 1], 0:2]\n",
        "print('array2d[[0, 1], 0:2] =>', array4.tolist())\n",
        "print()\n",
        "\n",
        "array5 = array2d[[0, 1]]\n",
        "print('array2d[[0, 1]] =>', array5.tolist())"
      ],
      "metadata": {
        "colab": {
          "base_uri": "https://localhost:8080/"
        },
        "id": "dgqponCxUP4b",
        "outputId": "2d4206d9-30a9-4628-cbc9-4e8127746a61"
      },
      "execution_count": 83,
      "outputs": [
        {
          "output_type": "stream",
          "name": "stdout",
          "text": [
            "array2d:\n",
            " [[1 2 3]\n",
            " [4 5 6]\n",
            " [7 8 9]]\n",
            "array2d[[0, 1], 2] => [3, 6]\n",
            "\n",
            "array2d[[0, 1], 0:2] => [[1, 2], [4, 5]]\n",
            "\n",
            "array2d[[0, 1]] => [[1, 2, 3], [4, 5, 6]]\n"
          ]
        }
      ]
    },
    {
      "cell_type": "markdown",
      "source": [
        "### 불린 인덱싱\n",
        "- 조건 필터링과 검색을 동시에 할 수 있기 때문에 자주 사용되는 인덱싱 방식\n",
        "- ndarray의 인덱스를 지정하는 [] 내에 조건문을 그대로 기재"
      ],
      "metadata": {
        "id": "wI-QMivQVT4D"
      }
    },
    {
      "cell_type": "code",
      "source": [
        "array1d = np.arange(start=1, stop=10)\n",
        "# [ ] 안에 array1d > 5 Boolean indexing을 적용\n",
        "array3 = array1d[array1d > 5]\n",
        "print('array1d > 5 Boolean indexing 결과값:', array3)"
      ],
      "metadata": {
        "colab": {
          "base_uri": "https://localhost:8080/"
        },
        "id": "X0aP0Q1KUpqg",
        "outputId": "479d4fd5-6e15-404f-eee0-6297e3d34fb4"
      },
      "execution_count": 84,
      "outputs": [
        {
          "output_type": "stream",
          "name": "stdout",
          "text": [
            "array1d > 5 Boolean indexing 결과값: [6 7 8 9]\n"
          ]
        }
      ]
    },
    {
      "cell_type": "code",
      "source": [
        "array1d > 5"
      ],
      "metadata": {
        "colab": {
          "base_uri": "https://localhost:8080/"
        },
        "id": "QVjtEfagZquZ",
        "outputId": "b4d6031e-f403-42ae-fdbf-ee3ca8e9666b"
      },
      "execution_count": 85,
      "outputs": [
        {
          "output_type": "execute_result",
          "data": {
            "text/plain": [
              "array([False, False, False, False, False,  True,  True,  True,  True])"
            ]
          },
          "metadata": {},
          "execution_count": 85
        }
      ]
    },
    {
      "cell_type": "code",
      "source": [
        "boolean_indexes = np.array([False, False, False, False, False,  True,  True,  True,  True])\n",
        "array3 = array1d[boolean_indexes]\n",
        "print('필터링 결과:', array3)"
      ],
      "metadata": {
        "colab": {
          "base_uri": "https://localhost:8080/"
        },
        "id": "Q4SeWWpHZtOw",
        "outputId": "783ab954-aee3-4f85-dc11-a75ce90107d6"
      },
      "execution_count": 86,
      "outputs": [
        {
          "output_type": "stream",
          "name": "stdout",
          "text": [
            "필터링 결과: [6 7 8 9]\n"
          ]
        }
      ]
    },
    {
      "cell_type": "code",
      "source": [
        "indexes = np.array([5, 6, 7, 8])\n",
        "array4 = array1d[indexes]\n",
        "print('일반 인덱스로 필터링 결과:', array4)"
      ],
      "metadata": {
        "colab": {
          "base_uri": "https://localhost:8080/"
        },
        "id": "iJgwSxGoaAyG",
        "outputId": "a277e44f-a00e-4751-f556-8a9fed87f310"
      },
      "execution_count": 87,
      "outputs": [
        {
          "output_type": "stream",
          "name": "stdout",
          "text": [
            "일반 인덱스로 필터링 결과: [6 7 8 9]\n"
          ]
        }
      ]
    },
    {
      "cell_type": "markdown",
      "source": [
        "## 행렬의 정렬 - sort(), argsort()\n",
        "- np.sort(): 넘파이에서 sort() 호출 → 원행렬은 그대로 유지한 채, 정렬된 행렬을 반환한다.\n",
        "- ndarray.sort(): 원행렬 자체를 정렬한 형태로 변환하며 별도로 반환하는 값은 없다."
      ],
      "metadata": {
        "id": "qUvetFOiaeI8"
      }
    },
    {
      "cell_type": "markdown",
      "source": [
        "### sort() 정렬"
      ],
      "metadata": {
        "id": "N5oJJ04melHD"
      }
    },
    {
      "cell_type": "code",
      "source": [
        "org_array = np.array([3, 1, 9, 5])\n",
        "print('원본 행렬:', org_array)\n",
        "\n",
        "# np.sort() 정렬\n",
        "sort_array1 = np.sort(org_array)\n",
        "print('np.sort() 호출 후 반환된 정렬 행렬:', sort_array1)\n",
        "print('np.sort() 호출 후 원본 행렬:', org_array)\n",
        "print()\n",
        "\n",
        "# ndarray.sort() 정렬\n",
        "sort_array2 = org_array.sort()\n",
        "print('org_array.sort() 호출 후 반환된 정렬 행렬:', sort_array2)\n",
        "print('org_array.sort() 호출 후 원본 행렬:', org_array)"
      ],
      "metadata": {
        "colab": {
          "base_uri": "https://localhost:8080/"
        },
        "id": "IGK2nIAPaOyj",
        "outputId": "a213835e-b66c-465e-fecb-cfd549e18eaf"
      },
      "execution_count": 88,
      "outputs": [
        {
          "output_type": "stream",
          "name": "stdout",
          "text": [
            "원본 행렬: [3 1 9 5]\n",
            "np.sort() 호출 후 반환된 정렬 행렬: [1 3 5 9]\n",
            "np.sort() 호출 후 원본 행렬: [3 1 9 5]\n",
            "\n",
            "org_array.sort() 호출 후 반환된 정렬 행렬: None\n",
            "org_array.sort() 호출 후 원본 행렬: [1 3 5 9]\n"
          ]
        }
      ]
    },
    {
      "cell_type": "markdown",
      "source": [
        "기본적으로 오름차순으로 행렬 내 원소를 정렬한다.  \n",
        "→ 내림차순으로 정렬하기 위해서는 [::-1]을 적용하면 된다."
      ],
      "metadata": {
        "id": "I0Jtw9tibw8j"
      }
    },
    {
      "cell_type": "code",
      "source": [
        "sort_array1_desc = np.sort(org_array)[::-1]\n",
        "print('내림차순으로 정렬:', sort_array1_desc)"
      ],
      "metadata": {
        "colab": {
          "base_uri": "https://localhost:8080/"
        },
        "id": "qlqWRUO7btS_",
        "outputId": "38060489-d18c-4005-e5f1-d8864ba007a3"
      },
      "execution_count": 89,
      "outputs": [
        {
          "output_type": "stream",
          "name": "stdout",
          "text": [
            "내림차순으로 정렬: [9 5 3 1]\n"
          ]
        }
      ]
    },
    {
      "cell_type": "code",
      "source": [
        "# 2차원 배열에서 행, 열 정렬\n",
        "array2d = np.array([[8, 12], [7, 1]])\n",
        "sort_array2d_axis0 = np.sort(array2d, axis=0)\n",
        "print('로우 방향으로 정렬:\\n', sort_array2d_axis0)\n",
        "sort_array2d_axis1 = np.sort(array2d, axis=1)\n",
        "print('컬럼 방향으로 정렬:\\n', sort_array2d_axis1)"
      ],
      "metadata": {
        "colab": {
          "base_uri": "https://localhost:8080/"
        },
        "id": "CoOnWakRcD_Q",
        "outputId": "e82f2107-89da-444c-9d44-2a45ea7c479a"
      },
      "execution_count": 90,
      "outputs": [
        {
          "output_type": "stream",
          "name": "stdout",
          "text": [
            "로우 방향으로 정렬:\n",
            " [[ 7  1]\n",
            " [ 8 12]]\n",
            "컬럼 방향으로 정렬:\n",
            " [[ 8 12]\n",
            " [ 1  7]]\n"
          ]
        }
      ]
    },
    {
      "cell_type": "markdown",
      "source": [
        "### argsort() 정렬"
      ],
      "metadata": {
        "id": "E-7aMZp9erdh"
      }
    },
    {
      "cell_type": "code",
      "source": [
        "# 정렬 행렬의 인덱스 반환\n",
        "org_array= np.array([3, 1, 9, 5])\n",
        "sort_indices = np.argsort(org_array)\n",
        "print(type(sort_indices))\n",
        "print('행렬 정렬 시 원본 행렬의 인덱스:', sort_indices)"
      ],
      "metadata": {
        "colab": {
          "base_uri": "https://localhost:8080/"
        },
        "id": "hHuLd3x3dFNw",
        "outputId": "9a03a7dd-21a0-458d-dc3a-f0fcb56a180a"
      },
      "execution_count": 91,
      "outputs": [
        {
          "output_type": "stream",
          "name": "stdout",
          "text": [
            "<class 'numpy.ndarray'>\n",
            "행렬 정렬 시 원본 행렬의 인덱스: [1 0 3 2]\n"
          ]
        }
      ]
    },
    {
      "cell_type": "code",
      "source": [
        "org_array = np.array([3, 1, 9, 5])\n",
        "sort_indices_desc = np.argsort(org_array)[::-1]\n",
        "print('행렬 내림차순 정렬 시 원본 행렬의 인덱스:', sort_indices_desc)"
      ],
      "metadata": {
        "colab": {
          "base_uri": "https://localhost:8080/"
        },
        "id": "i6DL0oCZedej",
        "outputId": "400385f2-04ba-41fd-be1e-ea60041e6fca"
      },
      "execution_count": 92,
      "outputs": [
        {
          "output_type": "stream",
          "name": "stdout",
          "text": [
            "행렬 내림차순 정렬 시 원본 행렬의 인덱스: [2 3 0 1]\n"
          ]
        }
      ]
    },
    {
      "cell_type": "code",
      "source": [
        "name_array = np.array(['John', 'Mike', 'Sarah', 'Kate', 'Samuel'])\n",
        "score_array = np.array([60, 90, 79, 86, 88])\n",
        "\n",
        "sort_indices_asc = np.argsort(score_array)\n",
        "print('성적 오름차순 정렬 시 score_array의 인덱스:', sort_indices_asc)\n",
        "print('성적 오름차순으로 name_array의 이름 출력:', name_array[sort_indices_asc])"
      ],
      "metadata": {
        "colab": {
          "base_uri": "https://localhost:8080/"
        },
        "id": "uUcJU2Wre-ya",
        "outputId": "db078db6-ce1e-427d-fae5-a65160cb74d5"
      },
      "execution_count": 94,
      "outputs": [
        {
          "output_type": "stream",
          "name": "stdout",
          "text": [
            "성적 오름차순 정렬 시 score_array의 인덱스: [0 2 3 4 1]\n",
            "성적 오름차순으로 name_array의 이름 출력: ['John' 'Sarah' 'Kate' 'Samuel' 'Mike']\n"
          ]
        }
      ]
    },
    {
      "cell_type": "markdown",
      "source": [
        "## 선형대수 연산 - 행렬 내적과 전치 행렬 구하기\n"
      ],
      "metadata": {
        "id": "aOmEt6Lmfy48"
      }
    },
    {
      "cell_type": "markdown",
      "source": [
        "- 행렬 내적"
      ],
      "metadata": {
        "id": "OVCa2DUhf285"
      }
    },
    {
      "cell_type": "code",
      "source": [
        "A = np.array([[1, 2, 3], [4, 5, 6]])\n",
        "B = np.array([[7, 8], [9, 10], [11, 12]])\n",
        "\n",
        "dot_product = np.dot(A, B)\n",
        "print('행렬 내적 결과:\\n', dot_product)"
      ],
      "metadata": {
        "colab": {
          "base_uri": "https://localhost:8080/"
        },
        "id": "BuSwQuujff72",
        "outputId": "c91aed55-86b4-4b7d-eef9-4396387c17df"
      },
      "execution_count": 95,
      "outputs": [
        {
          "output_type": "stream",
          "name": "stdout",
          "text": [
            "행렬 내적 결과:\n",
            " [[ 58  64]\n",
            " [139 154]]\n"
          ]
        }
      ]
    },
    {
      "cell_type": "markdown",
      "source": [
        "- 전치 행렬 - 차원 변경"
      ],
      "metadata": {
        "id": "I-y8KVKrf5jn"
      }
    },
    {
      "cell_type": "code",
      "source": [
        "A = np.array([[1, 2], [3, 4]])\n",
        "transpose_mat = np.transpose(A)\n",
        "print('A의 전치 행렬:\\n', transpose_mat)"
      ],
      "metadata": {
        "colab": {
          "base_uri": "https://localhost:8080/"
        },
        "id": "VUvhhiT9gLDs",
        "outputId": "6ecb0d94-154b-43a5-ab13-075691c6aeb0"
      },
      "execution_count": 96,
      "outputs": [
        {
          "output_type": "stream",
          "name": "stdout",
          "text": [
            "A의 전치 행렬:\n",
            " [[1 3]\n",
            " [2 4]]\n"
          ]
        }
      ]
    }
  ]
}